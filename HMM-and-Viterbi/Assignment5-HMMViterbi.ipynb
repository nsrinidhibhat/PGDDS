{
 "cells": [
  {
   "cell_type": "markdown",
   "metadata": {},
   "source": [
    "## POS tagging "
   ]
  },
  {
   "cell_type": "markdown",
   "metadata": {},
   "source": [
    "###  Using the TreeBank universal tag set corpus, build a Viterbi PoS tagger, \n",
    "##### Later, improve the performance to solve for the unknown words "
   ]
  },
  {
   "cell_type": "markdown",
   "metadata": {},
   "source": [
    "### Data Preparation"
   ]
  },
  {
   "cell_type": "code",
   "execution_count": 1,
   "metadata": {},
   "outputs": [],
   "source": [
    "#Importing libraries\n",
    "import nltk, re\n",
    "import numpy as np\n",
    "import pandas as pd\n",
    "import requests\n",
    "import matplotlib.pyplot as plt\n",
    "import seaborn as sns\n",
    "import random\n",
    "from nltk.tokenize import word_tokenize"
   ]
  },
  {
   "cell_type": "code",
   "execution_count": 2,
   "metadata": {},
   "outputs": [
    {
     "name": "stdout",
     "output_type": "stream",
     "text": [
      "[nltk_data] Downloading package universal_tagset to\n",
      "[nltk_data]     C:\\Users\\nsrip\\AppData\\Roaming\\nltk_data...\n",
      "[nltk_data]   Package universal_tagset is already up-to-date!\n"
     ]
    },
    {
     "data": {
      "text/plain": [
       "True"
      ]
     },
     "execution_count": 2,
     "metadata": {},
     "output_type": "execute_result"
    }
   ],
   "source": [
    "nltk.download('universal_tagset')"
   ]
  },
  {
   "cell_type": "code",
   "execution_count": 3,
   "metadata": {},
   "outputs": [],
   "source": [
    "# reading the Treebank tagged sentences\n",
    "df = list(nltk.corpus.treebank.tagged_sents(tagset='universal'))"
   ]
  },
  {
   "cell_type": "code",
   "execution_count": 4,
   "metadata": {},
   "outputs": [
    {
     "name": "stdout",
     "output_type": "stream",
     "text": [
      "[[('Pierre', 'NOUN'), ('Vinken', 'NOUN'), (',', '.'), ('61', 'NUM'), ('years', 'NOUN'), ('old', 'ADJ'), (',', '.'), ('will', 'VERB'), ('join', 'VERB'), ('the', 'DET'), ('board', 'NOUN'), ('as', 'ADP'), ('a', 'DET'), ('nonexecutive', 'ADJ'), ('director', 'NOUN'), ('Nov.', 'NOUN'), ('29', 'NUM'), ('.', '.')], [('Mr.', 'NOUN'), ('Vinken', 'NOUN'), ('is', 'VERB'), ('chairman', 'NOUN'), ('of', 'ADP'), ('Elsevier', 'NOUN'), ('N.V.', 'NOUN'), (',', '.'), ('the', 'DET'), ('Dutch', 'NOUN'), ('publishing', 'VERB'), ('group', 'NOUN'), ('.', '.')], [('Rudolph', 'NOUN'), ('Agnew', 'NOUN'), (',', '.'), ('55', 'NUM'), ('years', 'NOUN'), ('old', 'ADJ'), ('and', 'CONJ'), ('former', 'ADJ'), ('chairman', 'NOUN'), ('of', 'ADP'), ('Consolidated', 'NOUN'), ('Gold', 'NOUN'), ('Fields', 'NOUN'), ('PLC', 'NOUN'), (',', '.'), ('was', 'VERB'), ('named', 'VERB'), ('*-1', 'X'), ('a', 'DET'), ('nonexecutive', 'ADJ'), ('director', 'NOUN'), ('of', 'ADP'), ('this', 'DET'), ('British', 'ADJ'), ('industrial', 'ADJ'), ('conglomerate', 'NOUN'), ('.', '.')], [('A', 'DET'), ('form', 'NOUN'), ('of', 'ADP'), ('asbestos', 'NOUN'), ('once', 'ADV'), ('used', 'VERB'), ('*', 'X'), ('*', 'X'), ('to', 'PRT'), ('make', 'VERB'), ('Kent', 'NOUN'), ('cigarette', 'NOUN'), ('filters', 'NOUN'), ('has', 'VERB'), ('caused', 'VERB'), ('a', 'DET'), ('high', 'ADJ'), ('percentage', 'NOUN'), ('of', 'ADP'), ('cancer', 'NOUN'), ('deaths', 'NOUN'), ('among', 'ADP'), ('a', 'DET'), ('group', 'NOUN'), ('of', 'ADP'), ('workers', 'NOUN'), ('exposed', 'VERB'), ('*', 'X'), ('to', 'PRT'), ('it', 'PRON'), ('more', 'ADV'), ('than', 'ADP'), ('30', 'NUM'), ('years', 'NOUN'), ('ago', 'ADP'), (',', '.'), ('researchers', 'NOUN'), ('reported', 'VERB'), ('0', 'X'), ('*T*-1', 'X'), ('.', '.')], [('The', 'DET'), ('asbestos', 'NOUN'), ('fiber', 'NOUN'), (',', '.'), ('crocidolite', 'NOUN'), (',', '.'), ('is', 'VERB'), ('unusually', 'ADV'), ('resilient', 'ADJ'), ('once', 'ADP'), ('it', 'PRON'), ('enters', 'VERB'), ('the', 'DET'), ('lungs', 'NOUN'), (',', '.'), ('with', 'ADP'), ('even', 'ADV'), ('brief', 'ADJ'), ('exposures', 'NOUN'), ('to', 'PRT'), ('it', 'PRON'), ('causing', 'VERB'), ('symptoms', 'NOUN'), ('that', 'DET'), ('*T*-1', 'X'), ('show', 'VERB'), ('up', 'PRT'), ('decades', 'NOUN'), ('later', 'ADJ'), (',', '.'), ('researchers', 'NOUN'), ('said', 'VERB'), ('0', 'X'), ('*T*-2', 'X'), ('.', '.')]]\n"
     ]
    }
   ],
   "source": [
    "# first few tagged sentences\n",
    "print(df[:5])"
   ]
  },
  {
   "cell_type": "code",
   "execution_count": 5,
   "metadata": {},
   "outputs": [
    {
     "name": "stdout",
     "output_type": "stream",
     "text": [
      "3718\n",
      "196\n",
      "[[('Some', 'DET'), ('dealers', 'NOUN'), ('said', 'VERB'), ('0', 'X'), ('the', 'DET'), ('Treasury', 'NOUN'), (\"'s\", 'PRT'), ('intent', 'NOUN'), ('is', 'VERB'), ('*', 'X'), ('to', 'PRT'), ('help', 'VERB'), ('government', 'NOUN'), ('bond', 'NOUN'), ('dealers', 'NOUN'), ('gauge', 'VERB'), ('investor', 'NOUN'), ('demand', 'NOUN'), ('for', 'ADP'), ('the', 'DET'), ('securities', 'NOUN'), (',', '.'), ('*', 'X'), ('given', 'VERB'), ('uncertainties', 'NOUN'), ('about', 'ADP'), ('when', 'ADV'), ('the', 'DET'), ('auction', 'NOUN'), ('will', 'VERB'), ('occur', 'VERB'), ('*T*-1', 'X'), ('.', '.')], [('Nissan', 'NOUN'), ('scheduled', 'VERB'), ('a', 'DET'), ('seven-yen', 'ADJ'), ('interim', 'ADJ'), ('dividend', 'NOUN'), ('payment', 'NOUN'), (',', '.'), ('unchanged', 'ADJ'), ('.', '.')], [('Mr.', 'NOUN'), ('Otero', 'NOUN'), (',', '.'), ('who', 'PRON'), ('*T*-249', 'X'), ('apparently', 'ADV'), ('has', 'VERB'), ('an', 'DET'), ('unpublished', 'ADJ'), ('number', 'NOUN'), (',', '.'), ('also', 'ADV'), ('could', 'VERB'), (\"n't\", 'ADV'), ('be', 'VERB'), ('reached', 'VERB'), ('*-155', 'X'), ('.', '.')], [('Mr.', 'NOUN'), ('Hammond', 'NOUN'), ('worries', 'VERB'), ('that', 'ADP'), ('old', 'ADJ'), ('age', 'NOUN'), ('and', 'CONJ'), ('the', 'DET'), ('flightiness', 'NOUN'), ('of', 'ADP'), ('youth', 'NOUN'), ('will', 'VERB'), ('diminish', 'VERB'), ('the', 'DET'), ('ranks', 'NOUN'), ('of', 'ADP'), ('the', 'DET'), ('East', 'ADJ'), ('Anglian', 'ADJ'), ('group', 'NOUN'), ('that', 'DET'), ('*T*-223', 'X'), ('keeps', 'VERB'), ('the', 'DET'), ('Aslacton', 'NOUN'), ('bells', 'NOUN'), ('pealing', 'VERB'), ('.', '.')], [('It', 'PRON'), ('eventually', 'ADV'), ('secured', 'VERB'), ('Ministry', 'NOUN'), ('of', 'ADP'), ('Health', 'NOUN'), ('import', 'NOUN'), ('approval', 'NOUN'), ('for', 'ADP'), ('two', 'NUM'), ('Candela', 'NOUN'), ('laser', 'NOUN'), ('products', 'NOUN'), ('--', '.'), ('one', 'NUM'), ('that', 'DET'), ('*T*-189', 'X'), ('breaks', 'VERB'), ('up', 'PRT'), ('kidney', 'NOUN'), ('stones', 'NOUN'), ('and', 'CONJ'), ('another', 'DET'), ('that', 'DET'), ('*T*-190', 'X'), ('treats', 'VERB'), ('skin', 'NOUN'), ('lesions', 'NOUN'), ('.', '.')]]\n"
     ]
    }
   ],
   "source": [
    "# Splitting into train and test\n",
    "from sklearn.model_selection import train_test_split\n",
    "\n",
    "random.seed(59)\n",
    "train_set, test_set = train_test_split(df,test_size=0.05)\n",
    "\n",
    "print(len(train_set))\n",
    "print(len(test_set))\n",
    "print(train_set[:5])"
   ]
  },
  {
   "cell_type": "code",
   "execution_count": 6,
   "metadata": {},
   "outputs": [
    {
     "data": {
      "text/plain": [
       "95524"
      ]
     },
     "execution_count": 6,
     "metadata": {},
     "output_type": "execute_result"
    }
   ],
   "source": [
    "# Getting list of tagged words\n",
    "train_tagged = [tup for sent in train_set for tup in sent]\n",
    "len(train_tagged)"
   ]
  },
  {
   "cell_type": "code",
   "execution_count": 7,
   "metadata": {},
   "outputs": [
    {
     "data": {
      "text/plain": [
       "['Some', 'dealers', 'said', '0', 'the', 'Treasury', \"'s\", 'intent', 'is', '*']"
      ]
     },
     "execution_count": 7,
     "metadata": {},
     "output_type": "execute_result"
    }
   ],
   "source": [
    "# tokens \n",
    "tokens = [pair[0] for pair in train_tagged]\n",
    "tokens[:10]"
   ]
  },
  {
   "cell_type": "code",
   "execution_count": 8,
   "metadata": {},
   "outputs": [
    {
     "name": "stdout",
     "output_type": "stream",
     "text": [
      "12079\n"
     ]
    }
   ],
   "source": [
    "# vocabulary\n",
    "V = set(tokens)\n",
    "print(len(V))"
   ]
  },
  {
   "cell_type": "code",
   "execution_count": 9,
   "metadata": {},
   "outputs": [
    {
     "data": {
      "text/plain": [
       "12"
      ]
     },
     "execution_count": 9,
     "metadata": {},
     "output_type": "execute_result"
    }
   ],
   "source": [
    "# number of tags\n",
    "T = set([pair[1] for pair in train_tagged])\n",
    "len(T)"
   ]
  },
  {
   "cell_type": "code",
   "execution_count": 10,
   "metadata": {},
   "outputs": [
    {
     "name": "stdout",
     "output_type": "stream",
     "text": [
      "{'NOUN', 'ADV', 'ADJ', 'NUM', 'CONJ', 'PRON', 'PRT', 'X', '.', 'ADP', 'VERB', 'DET'}\n"
     ]
    }
   ],
   "source": [
    "print(T)"
   ]
  },
  {
   "cell_type": "markdown",
   "metadata": {},
   "source": [
    "##  POS Tagging Algorithm - HMM\n",
    "### Emission Probabilities"
   ]
  },
  {
   "cell_type": "code",
   "execution_count": 11,
   "metadata": {},
   "outputs": [],
   "source": [
    "# computing P(w/t) and storing in T x V matrix\n",
    "t = len(T)\n",
    "v = len(V)\n",
    "w_given_t = np.zeros((t, v))"
   ]
  },
  {
   "cell_type": "code",
   "execution_count": 12,
   "metadata": {},
   "outputs": [],
   "source": [
    "# compute word given tag: Emission Probability\n",
    "def word_given_tag(word, tag, train_bag = train_tagged):\n",
    "    tag_list = [pair for pair in train_bag if pair[1]==tag]\n",
    "    count_tag = len(tag_list)\n",
    "    w_given_tag_list = [pair[0] for pair in tag_list if pair[0]==word]\n",
    "    count_w_given_tag = len(w_given_tag_list)\n",
    "    \n",
    "    return (count_w_given_tag, count_tag)"
   ]
  },
  {
   "cell_type": "markdown",
   "metadata": {},
   "source": [
    "### Transition Probabilities"
   ]
  },
  {
   "cell_type": "code",
   "execution_count": 13,
   "metadata": {},
   "outputs": [],
   "source": [
    "# compute tag given tag: tag2(t2) given tag1 (t1), i.e. Transition Probability\n",
    "\n",
    "def t2_given_t1(t2, t1, train_bag = train_tagged):\n",
    "    tags = [pair[1] for pair in train_bag]\n",
    "    count_t1 = len([t for t in tags if t==t1])\n",
    "    count_t2_t1 = 0\n",
    "    for index in range(len(tags)-1):\n",
    "        if tags[index]==t1 and tags[index+1] == t2:\n",
    "            count_t2_t1 += 1\n",
    "    return (count_t2_t1, count_t1)"
   ]
  },
  {
   "cell_type": "code",
   "execution_count": 14,
   "metadata": {},
   "outputs": [],
   "source": [
    "# creating t x t transition matrix of tags\n",
    "# each column is t2, each row is t1\n",
    "# thus M(i, j) represents P(tj given ti)\n",
    "\n",
    "tags_matrix = np.zeros((len(T), len(T)), dtype='float32')\n",
    "for i, t1 in enumerate(list(T)):\n",
    "    for j, t2 in enumerate(list(T)): \n",
    "        tags_matrix[i, j] = t2_given_t1(t2, t1)[0]/t2_given_t1(t2, t1)[1]"
   ]
  },
  {
   "cell_type": "code",
   "execution_count": 15,
   "metadata": {},
   "outputs": [
    {
     "data": {
      "text/plain": [
       "array([[2.64446795e-01, 1.67769287e-02, 1.19521916e-02, 9.02810786e-03,\n",
       "        4.29474749e-02, 4.75163572e-03, 4.40074578e-02, 2.95332428e-02,\n",
       "        2.40432769e-01, 1.75298810e-01, 1.47483468e-01, 1.33411307e-02],\n",
       "       [3.24825980e-02, 8.05435851e-02, 1.29598945e-01, 3.24825980e-02,\n",
       "        6.62910193e-03, 1.55783892e-02, 1.35896588e-02, 2.25389451e-02,\n",
       "        1.35565132e-01, 1.18660919e-01, 3.43718916e-01, 6.86112046e-02],\n",
       "       [6.97728038e-01, 4.28054016e-03, 6.68422803e-02, 2.12380644e-02,\n",
       "        1.71221606e-02, 4.93908476e-04, 1.08659863e-02, 2.09087916e-02,\n",
       "        6.56898245e-02, 7.85314441e-02, 1.16891665e-02, 4.60981252e-03],\n",
       "       [3.50404322e-01, 2.99490872e-03, 3.32434848e-02, 1.86283320e-01,\n",
       "        1.40760709e-02, 1.49745436e-03, 2.81521417e-02, 2.09344119e-01,\n",
       "        1.18298888e-01, 3.56394127e-02, 1.67714879e-02, 3.29439947e-03],\n",
       "       [3.51413995e-01, 5.51692173e-02, 1.18683353e-01, 4.17246185e-02,\n",
       "        4.63606848e-04, 5.84144630e-02, 4.63606883e-03, 7.88131636e-03,\n",
       "        3.52341197e-02, 5.14603630e-02, 1.55771911e-01, 1.19146965e-01],\n",
       "       [2.07293659e-01, 3.18618044e-02, 7.10172728e-02, 7.67754298e-03,\n",
       "        4.99040307e-03, 8.06142017e-03, 1.26679465e-02, 9.28982720e-02,\n",
       "        4.14587334e-02, 2.18809973e-02, 4.91746634e-01, 8.44529737e-03],\n",
       "       [2.48850957e-01, 9.84898210e-03, 8.43729451e-02, 5.67957982e-02,\n",
       "        2.29809596e-03, 1.70715693e-02, 1.31319766e-03, 1.37885753e-02,\n",
       "        4.39921208e-02, 2.00262647e-02, 4.00853574e-01, 1.00787915e-01],\n",
       "       [6.32147416e-02, 2.60482840e-02, 1.63595937e-02, 2.85895797e-03,\n",
       "        1.03240153e-02, 5.65438382e-02, 1.82655647e-01, 7.54447281e-02,\n",
       "        1.62642941e-01, 1.44695044e-01, 2.04891995e-01, 5.43202050e-02],\n",
       "       [2.20606714e-01, 5.22347875e-02, 4.49649990e-02, 7.94291869e-02,\n",
       "        5.79788201e-02, 6.65051192e-02, 2.51301378e-03, 2.73739006e-02,\n",
       "        9.36097652e-02, 9.18147564e-02, 8.93017426e-02, 1.73577458e-01],\n",
       "       [3.23009312e-01, 1.37177147e-02, 1.06205121e-01, 6.20512255e-02,\n",
       "        8.57357169e-04, 6.84814081e-02, 1.39320549e-03, 3.41871195e-02,\n",
       "        4.02957872e-02, 1.69328041e-02, 8.68074130e-03, 3.24188203e-01],\n",
       "       [1.10749185e-01, 8.29067752e-02, 6.56119138e-02, 2.27237474e-02,\n",
       "        5.19621512e-03, 3.52877304e-02, 3.10997367e-02, 2.18241036e-01,\n",
       "        3.51326205e-02, 9.15154368e-02, 1.68217778e-01, 1.33317828e-01],\n",
       "       [6.36979699e-01, 1.25847049e-02, 2.05711514e-01, 2.23862529e-02,\n",
       "        4.84027114e-04, 3.63020319e-03, 2.42013557e-04, 4.59825732e-02,\n",
       "        1.77879967e-02, 9.68054216e-03, 3.89641821e-02, 5.56631153e-03]],\n",
       "      dtype=float32)"
      ]
     },
     "execution_count": 15,
     "metadata": {},
     "output_type": "execute_result"
    }
   ],
   "source": [
    "tags_matrix"
   ]
  },
  {
   "cell_type": "code",
   "execution_count": 16,
   "metadata": {},
   "outputs": [],
   "source": [
    "# convert the matrix to a df for better readability\n",
    "tags_df = pd.DataFrame(tags_matrix, columns = list(T), index=list(T))"
   ]
  },
  {
   "cell_type": "code",
   "execution_count": 17,
   "metadata": {},
   "outputs": [
    {
     "data": {
      "text/html": [
       "<div>\n",
       "<style scoped>\n",
       "    .dataframe tbody tr th:only-of-type {\n",
       "        vertical-align: middle;\n",
       "    }\n",
       "\n",
       "    .dataframe tbody tr th {\n",
       "        vertical-align: top;\n",
       "    }\n",
       "\n",
       "    .dataframe thead th {\n",
       "        text-align: right;\n",
       "    }\n",
       "</style>\n",
       "<table border=\"1\" class=\"dataframe\">\n",
       "  <thead>\n",
       "    <tr style=\"text-align: right;\">\n",
       "      <th></th>\n",
       "      <th>NOUN</th>\n",
       "      <th>ADV</th>\n",
       "      <th>ADJ</th>\n",
       "      <th>NUM</th>\n",
       "      <th>CONJ</th>\n",
       "      <th>PRON</th>\n",
       "      <th>PRT</th>\n",
       "      <th>X</th>\n",
       "      <th>.</th>\n",
       "      <th>ADP</th>\n",
       "      <th>VERB</th>\n",
       "      <th>DET</th>\n",
       "    </tr>\n",
       "  </thead>\n",
       "  <tbody>\n",
       "    <tr>\n",
       "      <th>NOUN</th>\n",
       "      <td>0.264447</td>\n",
       "      <td>0.016777</td>\n",
       "      <td>0.011952</td>\n",
       "      <td>0.009028</td>\n",
       "      <td>0.042947</td>\n",
       "      <td>0.004752</td>\n",
       "      <td>0.044007</td>\n",
       "      <td>0.029533</td>\n",
       "      <td>0.240433</td>\n",
       "      <td>0.175299</td>\n",
       "      <td>0.147483</td>\n",
       "      <td>0.013341</td>\n",
       "    </tr>\n",
       "    <tr>\n",
       "      <th>ADV</th>\n",
       "      <td>0.032483</td>\n",
       "      <td>0.080544</td>\n",
       "      <td>0.129599</td>\n",
       "      <td>0.032483</td>\n",
       "      <td>0.006629</td>\n",
       "      <td>0.015578</td>\n",
       "      <td>0.013590</td>\n",
       "      <td>0.022539</td>\n",
       "      <td>0.135565</td>\n",
       "      <td>0.118661</td>\n",
       "      <td>0.343719</td>\n",
       "      <td>0.068611</td>\n",
       "    </tr>\n",
       "    <tr>\n",
       "      <th>ADJ</th>\n",
       "      <td>0.697728</td>\n",
       "      <td>0.004281</td>\n",
       "      <td>0.066842</td>\n",
       "      <td>0.021238</td>\n",
       "      <td>0.017122</td>\n",
       "      <td>0.000494</td>\n",
       "      <td>0.010866</td>\n",
       "      <td>0.020909</td>\n",
       "      <td>0.065690</td>\n",
       "      <td>0.078531</td>\n",
       "      <td>0.011689</td>\n",
       "      <td>0.004610</td>\n",
       "    </tr>\n",
       "    <tr>\n",
       "      <th>NUM</th>\n",
       "      <td>0.350404</td>\n",
       "      <td>0.002995</td>\n",
       "      <td>0.033243</td>\n",
       "      <td>0.186283</td>\n",
       "      <td>0.014076</td>\n",
       "      <td>0.001497</td>\n",
       "      <td>0.028152</td>\n",
       "      <td>0.209344</td>\n",
       "      <td>0.118299</td>\n",
       "      <td>0.035639</td>\n",
       "      <td>0.016771</td>\n",
       "      <td>0.003294</td>\n",
       "    </tr>\n",
       "    <tr>\n",
       "      <th>CONJ</th>\n",
       "      <td>0.351414</td>\n",
       "      <td>0.055169</td>\n",
       "      <td>0.118683</td>\n",
       "      <td>0.041725</td>\n",
       "      <td>0.000464</td>\n",
       "      <td>0.058414</td>\n",
       "      <td>0.004636</td>\n",
       "      <td>0.007881</td>\n",
       "      <td>0.035234</td>\n",
       "      <td>0.051460</td>\n",
       "      <td>0.155772</td>\n",
       "      <td>0.119147</td>\n",
       "    </tr>\n",
       "    <tr>\n",
       "      <th>PRON</th>\n",
       "      <td>0.207294</td>\n",
       "      <td>0.031862</td>\n",
       "      <td>0.071017</td>\n",
       "      <td>0.007678</td>\n",
       "      <td>0.004990</td>\n",
       "      <td>0.008061</td>\n",
       "      <td>0.012668</td>\n",
       "      <td>0.092898</td>\n",
       "      <td>0.041459</td>\n",
       "      <td>0.021881</td>\n",
       "      <td>0.491747</td>\n",
       "      <td>0.008445</td>\n",
       "    </tr>\n",
       "    <tr>\n",
       "      <th>PRT</th>\n",
       "      <td>0.248851</td>\n",
       "      <td>0.009849</td>\n",
       "      <td>0.084373</td>\n",
       "      <td>0.056796</td>\n",
       "      <td>0.002298</td>\n",
       "      <td>0.017072</td>\n",
       "      <td>0.001313</td>\n",
       "      <td>0.013789</td>\n",
       "      <td>0.043992</td>\n",
       "      <td>0.020026</td>\n",
       "      <td>0.400854</td>\n",
       "      <td>0.100788</td>\n",
       "    </tr>\n",
       "    <tr>\n",
       "      <th>X</th>\n",
       "      <td>0.063215</td>\n",
       "      <td>0.026048</td>\n",
       "      <td>0.016360</td>\n",
       "      <td>0.002859</td>\n",
       "      <td>0.010324</td>\n",
       "      <td>0.056544</td>\n",
       "      <td>0.182656</td>\n",
       "      <td>0.075445</td>\n",
       "      <td>0.162643</td>\n",
       "      <td>0.144695</td>\n",
       "      <td>0.204892</td>\n",
       "      <td>0.054320</td>\n",
       "    </tr>\n",
       "    <tr>\n",
       "      <th>.</th>\n",
       "      <td>0.220607</td>\n",
       "      <td>0.052235</td>\n",
       "      <td>0.044965</td>\n",
       "      <td>0.079429</td>\n",
       "      <td>0.057979</td>\n",
       "      <td>0.066505</td>\n",
       "      <td>0.002513</td>\n",
       "      <td>0.027374</td>\n",
       "      <td>0.093610</td>\n",
       "      <td>0.091815</td>\n",
       "      <td>0.089302</td>\n",
       "      <td>0.173577</td>\n",
       "    </tr>\n",
       "    <tr>\n",
       "      <th>ADP</th>\n",
       "      <td>0.323009</td>\n",
       "      <td>0.013718</td>\n",
       "      <td>0.106205</td>\n",
       "      <td>0.062051</td>\n",
       "      <td>0.000857</td>\n",
       "      <td>0.068481</td>\n",
       "      <td>0.001393</td>\n",
       "      <td>0.034187</td>\n",
       "      <td>0.040296</td>\n",
       "      <td>0.016933</td>\n",
       "      <td>0.008681</td>\n",
       "      <td>0.324188</td>\n",
       "    </tr>\n",
       "    <tr>\n",
       "      <th>VERB</th>\n",
       "      <td>0.110749</td>\n",
       "      <td>0.082907</td>\n",
       "      <td>0.065612</td>\n",
       "      <td>0.022724</td>\n",
       "      <td>0.005196</td>\n",
       "      <td>0.035288</td>\n",
       "      <td>0.031100</td>\n",
       "      <td>0.218241</td>\n",
       "      <td>0.035133</td>\n",
       "      <td>0.091515</td>\n",
       "      <td>0.168218</td>\n",
       "      <td>0.133318</td>\n",
       "    </tr>\n",
       "    <tr>\n",
       "      <th>DET</th>\n",
       "      <td>0.636980</td>\n",
       "      <td>0.012585</td>\n",
       "      <td>0.205712</td>\n",
       "      <td>0.022386</td>\n",
       "      <td>0.000484</td>\n",
       "      <td>0.003630</td>\n",
       "      <td>0.000242</td>\n",
       "      <td>0.045983</td>\n",
       "      <td>0.017788</td>\n",
       "      <td>0.009681</td>\n",
       "      <td>0.038964</td>\n",
       "      <td>0.005566</td>\n",
       "    </tr>\n",
       "  </tbody>\n",
       "</table>\n",
       "</div>"
      ],
      "text/plain": [
       "          NOUN       ADV       ADJ       NUM      CONJ      PRON       PRT  \\\n",
       "NOUN  0.264447  0.016777  0.011952  0.009028  0.042947  0.004752  0.044007   \n",
       "ADV   0.032483  0.080544  0.129599  0.032483  0.006629  0.015578  0.013590   \n",
       "ADJ   0.697728  0.004281  0.066842  0.021238  0.017122  0.000494  0.010866   \n",
       "NUM   0.350404  0.002995  0.033243  0.186283  0.014076  0.001497  0.028152   \n",
       "CONJ  0.351414  0.055169  0.118683  0.041725  0.000464  0.058414  0.004636   \n",
       "PRON  0.207294  0.031862  0.071017  0.007678  0.004990  0.008061  0.012668   \n",
       "PRT   0.248851  0.009849  0.084373  0.056796  0.002298  0.017072  0.001313   \n",
       "X     0.063215  0.026048  0.016360  0.002859  0.010324  0.056544  0.182656   \n",
       ".     0.220607  0.052235  0.044965  0.079429  0.057979  0.066505  0.002513   \n",
       "ADP   0.323009  0.013718  0.106205  0.062051  0.000857  0.068481  0.001393   \n",
       "VERB  0.110749  0.082907  0.065612  0.022724  0.005196  0.035288  0.031100   \n",
       "DET   0.636980  0.012585  0.205712  0.022386  0.000484  0.003630  0.000242   \n",
       "\n",
       "             X         .       ADP      VERB       DET  \n",
       "NOUN  0.029533  0.240433  0.175299  0.147483  0.013341  \n",
       "ADV   0.022539  0.135565  0.118661  0.343719  0.068611  \n",
       "ADJ   0.020909  0.065690  0.078531  0.011689  0.004610  \n",
       "NUM   0.209344  0.118299  0.035639  0.016771  0.003294  \n",
       "CONJ  0.007881  0.035234  0.051460  0.155772  0.119147  \n",
       "PRON  0.092898  0.041459  0.021881  0.491747  0.008445  \n",
       "PRT   0.013789  0.043992  0.020026  0.400854  0.100788  \n",
       "X     0.075445  0.162643  0.144695  0.204892  0.054320  \n",
       ".     0.027374  0.093610  0.091815  0.089302  0.173577  \n",
       "ADP   0.034187  0.040296  0.016933  0.008681  0.324188  \n",
       "VERB  0.218241  0.035133  0.091515  0.168218  0.133318  \n",
       "DET   0.045983  0.017788  0.009681  0.038964  0.005566  "
      ]
     },
     "execution_count": 17,
     "metadata": {},
     "output_type": "execute_result"
    }
   ],
   "source": [
    "tags_df"
   ]
  },
  {
   "cell_type": "code",
   "execution_count": 18,
   "metadata": {},
   "outputs": [
    {
     "data": {
      "text/plain": [
       "NOUN    0.220607\n",
       "ADV     0.052235\n",
       "ADJ     0.044965\n",
       "NUM     0.079429\n",
       "CONJ    0.057979\n",
       "PRON    0.066505\n",
       "PRT     0.002513\n",
       "X       0.027374\n",
       ".       0.093610\n",
       "ADP     0.091815\n",
       "VERB    0.089302\n",
       "DET     0.173577\n",
       "Name: ., dtype: float32"
      ]
     },
     "execution_count": 18,
     "metadata": {},
     "output_type": "execute_result"
    }
   ],
   "source": [
    "tags_df.loc['.', :]"
   ]
  },
  {
   "cell_type": "code",
   "execution_count": 19,
   "metadata": {},
   "outputs": [
    {
     "data": {
      "image/png": "[encoded data removed]",
      "text/plain": [
       "<Figure size 1296x864 with 2 Axes>"
      ]
     },
     "metadata": {},
     "output_type": "display_data"
    }
   ],
   "source": [
    "# heatmap of tags matrix\n",
    "# T(i, j) means P(tag j given tag i)\n",
    "plt.figure(figsize=(18, 12))\n",
    "sns.heatmap(tags_df)\n",
    "plt.show()\n"
   ]
  },
  {
   "cell_type": "code",
   "execution_count": 20,
   "metadata": {},
   "outputs": [
    {
     "data": {
      "image/png": "[encoded data removed]",
      "text/plain": [
       "<Figure size 1296x864 with 2 Axes>"
      ]
     },
     "metadata": {},
     "output_type": "display_data"
    }
   ],
   "source": [
    "# frequent tags\n",
    "# filter the df to get P(t2, t1) > 0.5\n",
    "tags_frequent = tags_df[tags_df>0.5]\n",
    "plt.figure(figsize=(18, 12))\n",
    "sns.heatmap(tags_frequent)\n",
    "plt.show()"
   ]
  },
  {
   "cell_type": "code",
   "execution_count": 21,
   "metadata": {},
   "outputs": [
    {
     "data": {
      "text/plain": [
       "95524"
      ]
     },
     "execution_count": 21,
     "metadata": {},
     "output_type": "execute_result"
    }
   ],
   "source": [
    "len(train_tagged)"
   ]
  },
  {
   "cell_type": "markdown",
   "metadata": {},
   "source": [
    "### Build the vanilla Viterbi based POS tagger"
   ]
  },
  {
   "cell_type": "code",
   "execution_count": 22,
   "metadata": {},
   "outputs": [],
   "source": [
    "# Viterbi Heuristic\n",
    "def Viterbi(words, train_bag = train_tagged):\n",
    "    state = []\n",
    "    T = list(set([pair[1] for pair in train_bag]))\n",
    "    \n",
    "    for key, word in enumerate(words):\n",
    "        #initialise list of probability column for a given observation\n",
    "        p = [] \n",
    "        for tag in T:\n",
    "            if key == 0:\n",
    "                transition_p = tags_df.loc['.', tag]\n",
    "            else:\n",
    "                transition_p = tags_df.loc[state[-1], tag]\n",
    "                \n",
    "            # compute emission and state probabilities\n",
    "            emission_p = word_given_tag(words[key], tag)[0]/word_given_tag(words[key], tag)[1]\n",
    "            state_probability = emission_p * transition_p    \n",
    "            p.append(state_probability)\n",
    "            \n",
    "        pmax = max(p)\n",
    "        # getting state for which probability is maximum\n",
    "        state_max = T[p.index(pmax)] \n",
    "        state.append(state_max)\n",
    "    return list(zip(words, state))"
   ]
  },
  {
   "cell_type": "code",
   "execution_count": 23,
   "metadata": {},
   "outputs": [
    {
     "data": {
      "text/plain": [
       "[[('Fees', 'NOUN'), ('2', 'NUM'), ('1\\\\/4', 'NUM'), ('.', '.')],\n",
       " [('Rep.', 'NOUN'),\n",
       "  ('Jerry', 'NOUN'),\n",
       "  ('Lewis', 'NOUN'),\n",
       "  (',', '.'),\n",
       "  ('a', 'DET'),\n",
       "  ('conservative', 'ADJ'),\n",
       "  ('Californian', 'NOUN'),\n",
       "  (',', '.'),\n",
       "  ('added', 'VERB'),\n",
       "  ('a', 'DET'),\n",
       "  ('provision', 'NOUN'),\n",
       "  ('of', 'ADP'),\n",
       "  ('his', 'PRON'),\n",
       "  ('own', 'ADJ'),\n",
       "  ('intended', 'VERB'),\n",
       "  ('*', 'X'),\n",
       "  ('to', 'PRT'),\n",
       "  ('assist', 'VERB'),\n",
       "  ('Bolivia', 'NOUN'),\n",
       "  (',', '.'),\n",
       "  ('and', 'CONJ'),\n",
       "  ('the', 'DET'),\n",
       "  ('Senate', 'NOUN'),\n",
       "  ('then', 'ADV'),\n",
       "  ('broadened', 'VERB'),\n",
       "  ('the', 'DET'),\n",
       "  ('list', 'NOUN'),\n",
       "  ('further', 'ADV'),\n",
       "  ('by', 'ADP'),\n",
       "  ('*-1', 'X'),\n",
       "  ('including', 'VERB'),\n",
       "  ('all', 'DET'),\n",
       "  ('countries', 'NOUN'),\n",
       "  ('in', 'ADP'),\n",
       "  ('the', 'DET'),\n",
       "  ('U.S.', 'NOUN'),\n",
       "  ('Caribbean', 'NOUN'),\n",
       "  ('Basin', 'NOUN'),\n",
       "  ('initiate', 'NOUN'),\n",
       "  ('as', 'ADV'),\n",
       "  ('well', 'ADV'),\n",
       "  ('as', 'ADP'),\n",
       "  ('the', 'DET'),\n",
       "  ('Philippines', 'NOUN'),\n",
       "  ('-', '.'),\n",
       "  ('*-1', 'X'),\n",
       "  ('backed', 'VERB'),\n",
       "  ('*', 'X'),\n",
       "  ('by', 'ADP'),\n",
       "  ('the', 'DET'),\n",
       "  ('powerful', 'ADJ'),\n",
       "  ('Hawaii', 'NOUN'),\n",
       "  ('Democrat', 'NOUN'),\n",
       "  ('Sen.', 'NOUN'),\n",
       "  ('Daniel', 'NOUN'),\n",
       "  ('Inouye', 'NOUN'),\n",
       "  ('.', '.')],\n",
       " [('The', 'DET'),\n",
       "  ('wine', 'NOUN'),\n",
       "  ('was', 'VERB'),\n",
       "  ('shipped', 'VERB'),\n",
       "  ('*-97', 'X'),\n",
       "  ('in', 'ADP'),\n",
       "  ('six-bottle', 'ADJ'),\n",
       "  ('cases', 'NOUN'),\n",
       "  ('instead', 'ADV'),\n",
       "  ('of', 'ADP'),\n",
       "  ('the', 'DET'),\n",
       "  ('usual', 'ADJ'),\n",
       "  ('12', 'NUM'),\n",
       "  (',', '.'),\n",
       "  ('but', 'CONJ'),\n",
       "  ('even', 'ADV'),\n",
       "  ('at', 'ADP'),\n",
       "  ('that', 'ADP'),\n",
       "  ('it', 'PRON'),\n",
       "  ('was', 'VERB'),\n",
       "  ('spread', 'VERB'),\n",
       "  ('*-98', 'X'),\n",
       "  ('thin', 'ADJ'),\n",
       "  (',', '.'),\n",
       "  ('*-98', 'X'),\n",
       "  ('going', 'VERB'),\n",
       "  ('to', 'PRT'),\n",
       "  ('62', 'NUM'),\n",
       "  ('retailers', 'NOUN'),\n",
       "  ('in', 'ADP'),\n",
       "  ('28', 'NUM'),\n",
       "  ('states', 'NOUN'),\n",
       "  ('.', '.')],\n",
       " [('Average', 'ADJ'),\n",
       "  ('daily', 'ADJ'),\n",
       "  ('trading', 'NOUN'),\n",
       "  ('volume', 'NOUN'),\n",
       "  (':', '.'),\n",
       "  ('83,206', 'NUM'),\n",
       "  ('shares', 'NOUN')],\n",
       " [('Diamond', 'NOUN'),\n",
       "  ('Creek', 'NOUN'),\n",
       "  ('1985', 'NUM'),\n",
       "  ('Lake', 'NOUN'),\n",
       "  ('Vineyard', 'NOUN'),\n",
       "  ('Cabernet', 'NOUN'),\n",
       "  ('weighed', 'VERB'),\n",
       "  ('in', 'PRT'),\n",
       "  ('this', 'DET'),\n",
       "  ('fall', 'NOUN'),\n",
       "  ('with', 'ADP'),\n",
       "  ('a', 'DET'),\n",
       "  ('sticker', 'NOUN'),\n",
       "  ('price', 'NOUN'),\n",
       "  ('of', 'ADP'),\n",
       "  ('$', '.'),\n",
       "  ('100', 'NUM'),\n",
       "  ('*U*', 'X'),\n",
       "  ('a', 'DET'),\n",
       "  ('bottle', 'NOUN'),\n",
       "  ('.', '.')]]"
      ]
     },
     "execution_count": 23,
     "metadata": {},
     "output_type": "execute_result"
    }
   ],
   "source": [
    "# Running on entire test dataset would take more than 3-4hrs. \n",
    "# Let's test our Viterbi algorithm on a few sample sentences of test dataset\n",
    "\n",
    "random.seed(1234)\n",
    "\n",
    "# choose random 5 sents\n",
    "rndom = [random.randint(1,len(test_set)) for x in range(5)]\n",
    "\n",
    "# list of sents\n",
    "test_run = [test_set[i] for i in rndom]\n",
    "\n",
    "# list of tagged words\n",
    "test_run_base = [tup for sent in test_run for tup in sent]\n",
    "\n",
    "# list of untagged words\n",
    "test_tagged = [tup[0] for sent in test_run for tup in sent]\n",
    "test_run"
   ]
  },
  {
   "cell_type": "code",
   "execution_count": 24,
   "metadata": {},
   "outputs": [],
   "source": [
    "# tagging the test sentences\n",
    "tagged_seq = Viterbi(test_tagged)"
   ]
  },
  {
   "cell_type": "code",
   "execution_count": 25,
   "metadata": {},
   "outputs": [
    {
     "name": "stdout",
     "output_type": "stream",
     "text": [
      "[('Fees', 'NOUN'), ('2', 'NUM'), ('1\\\\/4', 'NUM'), ('.', '.'), ('Rep.', 'NOUN'), ('Jerry', 'NOUN'), ('Lewis', 'NOUN'), (',', '.'), ('a', 'DET'), ('conservative', 'ADJ'), ('Californian', 'NOUN'), (',', '.'), ('added', 'VERB'), ('a', 'DET'), ('provision', 'NOUN'), ('of', 'ADP'), ('his', 'PRON'), ('own', 'ADJ'), ('intended', 'VERB'), ('*', 'X'), ('to', 'PRT'), ('assist', 'VERB'), ('Bolivia', 'NOUN'), (',', '.'), ('and', 'CONJ'), ('the', 'DET'), ('Senate', 'NOUN'), ('then', 'ADV'), ('broadened', 'NOUN'), ('the', 'DET'), ('list', 'NOUN'), ('further', 'ADV'), ('by', 'ADP'), ('*-1', 'X'), ('including', 'VERB'), ('all', 'DET'), ('countries', 'NOUN'), ('in', 'ADP'), ('the', 'DET'), ('U.S.', 'NOUN'), ('Caribbean', 'NOUN'), ('Basin', 'NOUN'), ('initiate', 'NOUN'), ('as', 'ADP'), ('well', 'ADV'), ('as', 'ADP'), ('the', 'DET'), ('Philippines', 'NOUN'), ('-', '.'), ('*-1', 'X'), ('backed', 'VERB'), ('*', 'X'), ('by', 'ADP'), ('the', 'DET'), ('powerful', 'ADJ'), ('Hawaii', 'NOUN'), ('Democrat', 'NOUN'), ('Sen.', 'NOUN'), ('Daniel', 'NOUN'), ('Inouye', 'NOUN'), ('.', '.'), ('The', 'DET'), ('wine', 'NOUN'), ('was', 'VERB'), ('shipped', 'VERB'), ('*-97', 'NOUN'), ('in', 'ADP'), ('six-bottle', 'NOUN'), ('cases', 'NOUN'), ('instead', 'ADV'), ('of', 'ADP'), ('the', 'DET'), ('usual', 'ADJ'), ('12', 'NUM'), (',', '.'), ('but', 'CONJ'), ('even', 'ADV'), ('at', 'ADP'), ('that', 'DET'), ('it', 'PRON'), ('was', 'VERB'), ('spread', 'VERB'), ('*-98', 'NOUN'), ('thin', 'ADJ'), (',', '.'), ('*-98', 'NOUN'), ('going', 'VERB'), ('to', 'PRT'), ('62', 'NUM'), ('retailers', 'NOUN'), ('in', 'ADP'), ('28', 'NUM'), ('states', 'NOUN'), ('.', '.'), ('Average', 'NOUN'), ('daily', 'ADJ'), ('trading', 'NOUN'), ('volume', 'NOUN'), (':', '.'), ('83,206', 'NOUN'), ('shares', 'NOUN'), ('Diamond', 'NOUN'), ('Creek', 'NOUN'), ('1985', 'NUM'), ('Lake', 'NOUN'), ('Vineyard', 'NOUN'), ('Cabernet', 'NOUN'), ('weighed', 'NOUN'), ('in', 'ADP'), ('this', 'DET'), ('fall', 'NOUN'), ('with', 'ADP'), ('a', 'DET'), ('sticker', 'NOUN'), ('price', 'NOUN'), ('of', 'ADP'), ('$', '.'), ('100', 'NUM'), ('*U*', 'X'), ('a', 'DET'), ('bottle', 'NOUN'), ('.', '.')]\n"
     ]
    }
   ],
   "source": [
    "print(tagged_seq)\n",
    "#print(test_run_base)"
   ]
  },
  {
   "cell_type": "code",
   "execution_count": 26,
   "metadata": {},
   "outputs": [
    {
     "data": {
      "text/plain": [
       "0.9098360655737705"
      ]
     },
     "execution_count": 26,
     "metadata": {},
     "output_type": "execute_result"
    }
   ],
   "source": [
    "# accuracy\n",
    "check = [i for i, j in zip(tagged_seq, test_run_base) if i == j]\n",
    "accuracy_vanilla_viterbi = len(check)/len(tagged_seq)\n",
    "accuracy_vanilla_viterbi"
   ]
  },
  {
   "cell_type": "code",
   "execution_count": 27,
   "metadata": {},
   "outputs": [
    {
     "data": {
      "text/plain": [
       "[[('then', 'ADV'), (('broadened', 'NOUN'), ('broadened', 'VERB'))],\n",
       " [('initiate', 'NOUN'), (('as', 'ADP'), ('as', 'ADV'))],\n",
       " [('shipped', 'VERB'), (('*-97', 'NOUN'), ('*-97', 'X'))],\n",
       " [('in', 'ADP'), (('six-bottle', 'NOUN'), ('six-bottle', 'ADJ'))],\n",
       " [('at', 'ADP'), (('that', 'DET'), ('that', 'ADP'))],\n",
       " [('spread', 'VERB'), (('*-98', 'NOUN'), ('*-98', 'X'))],\n",
       " [(',', '.'), (('*-98', 'NOUN'), ('*-98', 'X'))],\n",
       " [('.', '.'), (('Average', 'NOUN'), ('Average', 'ADJ'))],\n",
       " [(':', '.'), (('83,206', 'NOUN'), ('83,206', 'NUM'))],\n",
       " [('Cabernet', 'NOUN'), (('weighed', 'NOUN'), ('weighed', 'VERB'))],\n",
       " [('weighed', 'VERB'), (('in', 'ADP'), ('in', 'PRT'))]]"
      ]
     },
     "execution_count": 27,
     "metadata": {},
     "output_type": "execute_result"
    }
   ],
   "source": [
    "incorrect_tagged_vanilla_viterbi = [[test_run_base[i-1],j] for i, j in enumerate(zip(tagged_seq, test_run_base)) if j[0]!=j[1]]\n",
    "incorrect_tagged_vanilla_viterbi"
   ]
  },
  {
   "cell_type": "code",
   "execution_count": 28,
   "metadata": {},
   "outputs": [],
   "source": [
    "## Testing\n",
    "sentence_test = 'Google and Twitter made a deal in 2015 that gave Google access to Twitter\\'s firehose.'\n",
    "words = word_tokenize(sentence_test)\n",
    "\n",
    "\n",
    "tagged_seq = Viterbi(words)"
   ]
  },
  {
   "cell_type": "code",
   "execution_count": 29,
   "metadata": {},
   "outputs": [
    {
     "name": "stdout",
     "output_type": "stream",
     "text": [
      "[('Google', 'NOUN'), ('and', 'CONJ'), ('Twitter', 'NOUN'), ('made', 'VERB'), ('a', 'DET'), ('deal', 'NOUN'), ('in', 'ADP'), ('2015', 'NOUN'), ('that', 'ADP'), ('gave', 'VERB'), ('Google', 'NOUN'), ('access', 'NOUN'), ('to', 'PRT'), ('Twitter', 'NOUN'), (\"'s\", 'PRT'), ('firehose', 'NOUN'), ('.', '.')]\n"
     ]
    }
   ],
   "source": [
    "print(tagged_seq)"
   ]
  },
  {
   "cell_type": "markdown",
   "metadata": {},
   "source": [
    "### Solve the problem of unknown words"
   ]
  },
  {
   "cell_type": "markdown",
   "metadata": {},
   "source": [
    "1. Use lexical techniqies on the same data to see if we get a better accuracy <br>\n",
    "2. Use these to tag unknown words, and watch out for the result\n",
    "\n"
   ]
  },
  {
   "cell_type": "code",
   "execution_count": 30,
   "metadata": {},
   "outputs": [],
   "source": [
    "# specify patterns for tagging\n",
    "# example from the NLTK book\n",
    "patterns = [(r'.*ing$', 'VBG'), (r'.*ed$', 'VBD'),  (r'.*es$', 'VBZ'), (r'.*ould$', 'MD'),          \n",
    "            (r'.*\\'s$', 'NN$'), (r'.*s$', 'NNS'), (r'^-?[0-9]+(.[0-9]+)?$', 'CD'), (r'.*', 'NN')]\n",
    "\n",
    "# gerund, past tense, 3rd singular present, modals, possessive nounds, plural nouns, cardinal numbers, nounds in order"
   ]
  },
  {
   "cell_type": "code",
   "execution_count": 31,
   "metadata": {},
   "outputs": [
    {
     "name": "stdout",
     "output_type": "stream",
     "text": [
      "0.9029503105590062\n"
     ]
    }
   ],
   "source": [
    "# rule based tagger\n",
    "rule_based_tagger = nltk.RegexpTagger(patterns)\n",
    "\n",
    "# lexicon backed up by the rule-based tagger\n",
    "lexicon_tagger = nltk.UnigramTagger(train_set, backoff=rule_based_tagger)\n",
    "\n",
    "accuracy_lexicon_tagger = lexicon_tagger.evaluate(test_set)\n",
    "print(accuracy_lexicon_tagger)"
   ]
  },
  {
   "cell_type": "markdown",
   "metadata": {},
   "source": [
    "Trigram tagger"
   ]
  },
  {
   "cell_type": "code",
   "execution_count": 32,
   "metadata": {},
   "outputs": [
    {
     "name": "stdout",
     "output_type": "stream",
     "text": [
      "0.9070263975155279\n"
     ]
    }
   ],
   "source": [
    "# Bigram and Trigram tagger\n",
    "bigram_tagger = nltk.BigramTagger(train_set,backoff=lexicon_tagger)\n",
    "bigram_tagger.evaluate(test_set)\n",
    "accuracy_bigram_tagger = bigram_tagger.evaluate(test_set)\n",
    "print(accuracy_bigram_tagger)"
   ]
  },
  {
   "cell_type": "code",
   "execution_count": 33,
   "metadata": {},
   "outputs": [
    {
     "name": "stdout",
     "output_type": "stream",
     "text": [
      "0.9083850931677019\n"
     ]
    }
   ],
   "source": [
    "trigram_regex = nltk.TrigramTagger(train_set, backoff=bigram_tagger)\n",
    "trigram_regex.evaluate(test_set)\n",
    "\n",
    "accuracy_trigram_regex = trigram_regex.evaluate(test_set)\n",
    "print(accuracy_trigram_regex)"
   ]
  },
  {
   "cell_type": "markdown",
   "metadata": {},
   "source": [
    "Getting marginally better, but not by much. <br>\n",
    "Next lets see if we can use this for the unknown words \n"
   ]
  },
  {
   "cell_type": "markdown",
   "metadata": {},
   "source": [
    "Now to build this into viterbi, need to change the regex patterns to fit for the tags in our data (NOUN instead of NNS etc)  "
   ]
  },
  {
   "cell_type": "code",
   "execution_count": 34,
   "metadata": {},
   "outputs": [
    {
     "name": "stdout",
     "output_type": "stream",
     "text": [
      "{'NOUN', 'ADV', 'ADJ', 'NUM', 'CONJ', 'PRON', 'PRT', 'X', '.', 'ADP', 'VERB', 'DET'}\n"
     ]
    }
   ],
   "source": [
    "print(T)"
   ]
  },
  {
   "cell_type": "code",
   "execution_count": 35,
   "metadata": {},
   "outputs": [],
   "source": [
    "def trigram_regex(word,train_set = train_set):\n",
    "    patterns1 = [(r'.*ing$', 'VERB'), (r'.*ed$', 'VERB'), (r'.*es$', 'VERB'), (r'.*ould$', 'X'),        \n",
    "    (r'.*\\'s$', 'NOUN'), (r'.*s$', 'NOUN'), (r'^-?[0-9]+(.[0-9]+)?$', 'NUM'), (r'.*', 'NOUN')]\n",
    "# gerund, past tense, 3rd singular present, modals, possessive nounds, plural nouns, cardinal numbers, nounds in order    \n",
    "    regex_based_tagger = nltk.RegexpTagger(patterns1)\n",
    "\n",
    "    # trigram backed up by the regex tagger\n",
    "    trigram_regex_tagger = nltk.TrigramTagger(train_set, backoff=regex_based_tagger)\n",
    "    return trigram_regex_tagger.tag_sents([[(word)]])"
   ]
  },
  {
   "cell_type": "code",
   "execution_count": 36,
   "metadata": {},
   "outputs": [],
   "source": [
    "# viterbi with handling for unknown words from regex tagger\n",
    "\n",
    "def Viterbi_modified(words, train_bag = train_tagged):\n",
    "    state = []\n",
    "    T = list(set([pair[1] for pair in train_bag]))\n",
    "    \n",
    "    for key, word in enumerate(words):\n",
    "        # unknown words from trigram taggr\n",
    "        if word not in tokens:\n",
    "            unk_word_tag=trigram_regex(word)\n",
    "            for sent in unk_word_tag:\n",
    "                for tup in sent:\n",
    "                    state.append(tup[1])\n",
    "        # rest remains same            \n",
    "        else:            \n",
    "            p = [] \n",
    "            for tag in T:\n",
    "                if key == 0:\n",
    "                    transition_p = tags_df.loc['.', tag]\n",
    "                else:\n",
    "                    transition_p = tags_df.loc[state[-1], tag]\n",
    "                \n",
    "            # compute emission and state probabilities\n",
    "                emission_p = word_given_tag(words[key], tag)[0]/word_given_tag(words[key], tag)[1]\n",
    "                state_probability = emission_p * transition_p    \n",
    "                p.append(state_probability)\n",
    "            \n",
    "            pmax = max(p)\n",
    "            # getting state for which probability is maximum\n",
    "            state_max = T[p.index(pmax)] \n",
    "            state.append(state_max)\n",
    "            \n",
    "    return list(zip(words, state))"
   ]
  },
  {
   "cell_type": "code",
   "execution_count": 37,
   "metadata": {},
   "outputs": [],
   "source": [
    "tagged_seq = Viterbi_modified(test_tagged)"
   ]
  },
  {
   "cell_type": "markdown",
   "metadata": {},
   "source": [
    "#### Evaluating tagging accuracy"
   ]
  },
  {
   "cell_type": "code",
   "execution_count": 38,
   "metadata": {},
   "outputs": [
    {
     "data": {
      "text/plain": [
       "['Fees',\n",
       " '2',\n",
       " '1\\\\/4',\n",
       " '.',\n",
       " 'Rep.',\n",
       " 'Jerry',\n",
       " 'Lewis',\n",
       " ',',\n",
       " 'a',\n",
       " 'conservative',\n",
       " 'Californian',\n",
       " ',',\n",
       " 'added',\n",
       " 'a',\n",
       " 'provision',\n",
       " 'of',\n",
       " 'his',\n",
       " 'own',\n",
       " 'intended',\n",
       " '*',\n",
       " 'to',\n",
       " 'assist',\n",
       " 'Bolivia',\n",
       " ',',\n",
       " 'and',\n",
       " 'the',\n",
       " 'Senate',\n",
       " 'then',\n",
       " 'broadened',\n",
       " 'the',\n",
       " 'list',\n",
       " 'further',\n",
       " 'by',\n",
       " '*-1',\n",
       " 'including',\n",
       " 'all',\n",
       " 'countries',\n",
       " 'in',\n",
       " 'the',\n",
       " 'U.S.',\n",
       " 'Caribbean',\n",
       " 'Basin',\n",
       " 'initiate',\n",
       " 'as',\n",
       " 'well',\n",
       " 'as',\n",
       " 'the',\n",
       " 'Philippines',\n",
       " '-',\n",
       " '*-1',\n",
       " 'backed',\n",
       " '*',\n",
       " 'by',\n",
       " 'the',\n",
       " 'powerful',\n",
       " 'Hawaii',\n",
       " 'Democrat',\n",
       " 'Sen.',\n",
       " 'Daniel',\n",
       " 'Inouye',\n",
       " '.',\n",
       " 'The',\n",
       " 'wine',\n",
       " 'was',\n",
       " 'shipped',\n",
       " '*-97',\n",
       " 'in',\n",
       " 'six-bottle',\n",
       " 'cases',\n",
       " 'instead',\n",
       " 'of',\n",
       " 'the',\n",
       " 'usual',\n",
       " '12',\n",
       " ',',\n",
       " 'but',\n",
       " 'even',\n",
       " 'at',\n",
       " 'that',\n",
       " 'it',\n",
       " 'was',\n",
       " 'spread',\n",
       " '*-98',\n",
       " 'thin',\n",
       " ',',\n",
       " '*-98',\n",
       " 'going',\n",
       " 'to',\n",
       " '62',\n",
       " 'retailers',\n",
       " 'in',\n",
       " '28',\n",
       " 'states',\n",
       " '.',\n",
       " 'Average',\n",
       " 'daily',\n",
       " 'trading',\n",
       " 'volume',\n",
       " ':',\n",
       " '83,206',\n",
       " 'shares',\n",
       " 'Diamond',\n",
       " 'Creek',\n",
       " '1985',\n",
       " 'Lake',\n",
       " 'Vineyard',\n",
       " 'Cabernet',\n",
       " 'weighed',\n",
       " 'in',\n",
       " 'this',\n",
       " 'fall',\n",
       " 'with',\n",
       " 'a',\n",
       " 'sticker',\n",
       " 'price',\n",
       " 'of',\n",
       " '$',\n",
       " '100',\n",
       " '*U*',\n",
       " 'a',\n",
       " 'bottle',\n",
       " '.']"
      ]
     },
     "execution_count": 38,
     "metadata": {},
     "output_type": "execute_result"
    }
   ],
   "source": [
    "\n",
    "test_run_base = [tup for sent in test_run for tup in sent]\n",
    "\n",
    "# list of untagged words\n",
    "test_tagged = [tup[0] for sent in test_run for tup in sent]\n",
    "test_tagged"
   ]
  },
  {
   "cell_type": "code",
   "execution_count": 39,
   "metadata": {},
   "outputs": [],
   "source": [
    "# tagging the test sentences\n",
    "tagged_seq_modified = Viterbi_modified(test_tagged)"
   ]
  },
  {
   "cell_type": "code",
   "execution_count": 40,
   "metadata": {},
   "outputs": [
    {
     "name": "stdout",
     "output_type": "stream",
     "text": [
      "[('Fees', 'NOUN'), ('2', 'NUM'), ('1\\\\/4', 'NUM'), ('.', '.'), ('Rep.', 'NOUN'), ('Jerry', 'NOUN'), ('Lewis', 'NOUN'), (',', '.'), ('a', 'DET'), ('conservative', 'ADJ'), ('Californian', 'NOUN'), (',', '.'), ('added', 'VERB'), ('a', 'DET'), ('provision', 'NOUN'), ('of', 'ADP'), ('his', 'PRON'), ('own', 'ADJ'), ('intended', 'VERB'), ('*', 'X'), ('to', 'PRT'), ('assist', 'VERB'), ('Bolivia', 'NOUN'), (',', '.'), ('and', 'CONJ'), ('the', 'DET'), ('Senate', 'NOUN'), ('then', 'ADV'), ('broadened', 'VERB'), ('the', 'DET'), ('list', 'NOUN'), ('further', 'ADV'), ('by', 'ADP'), ('*-1', 'X'), ('including', 'VERB'), ('all', 'DET'), ('countries', 'NOUN'), ('in', 'ADP'), ('the', 'DET'), ('U.S.', 'NOUN'), ('Caribbean', 'NOUN'), ('Basin', 'NOUN'), ('initiate', 'NOUN'), ('as', 'ADP'), ('well', 'ADV'), ('as', 'ADP'), ('the', 'DET'), ('Philippines', 'NOUN'), ('-', '.'), ('*-1', 'X'), ('backed', 'VERB'), ('*', 'X'), ('by', 'ADP'), ('the', 'DET'), ('powerful', 'ADJ'), ('Hawaii', 'NOUN'), ('Democrat', 'NOUN'), ('Sen.', 'NOUN'), ('Daniel', 'NOUN'), ('Inouye', 'NOUN'), ('.', '.'), ('The', 'DET'), ('wine', 'NOUN'), ('was', 'VERB'), ('shipped', 'VERB'), ('*-97', 'NOUN'), ('in', 'ADP'), ('six-bottle', 'NOUN'), ('cases', 'NOUN'), ('instead', 'ADV'), ('of', 'ADP'), ('the', 'DET'), ('usual', 'ADJ'), ('12', 'NUM'), (',', '.'), ('but', 'CONJ'), ('even', 'ADV'), ('at', 'ADP'), ('that', 'DET'), ('it', 'PRON'), ('was', 'VERB'), ('spread', 'VERB'), ('*-98', 'NOUN'), ('thin', 'ADJ'), (',', '.'), ('*-98', 'NOUN'), ('going', 'VERB'), ('to', 'PRT'), ('62', 'NUM'), ('retailers', 'NOUN'), ('in', 'ADP'), ('28', 'NUM'), ('states', 'NOUN'), ('.', '.'), ('Average', 'NOUN'), ('daily', 'ADJ'), ('trading', 'NOUN'), ('volume', 'NOUN'), (':', '.'), ('83,206', 'NUM'), ('shares', 'NOUN'), ('Diamond', 'NOUN'), ('Creek', 'NOUN'), ('1985', 'NUM'), ('Lake', 'NOUN'), ('Vineyard', 'NOUN'), ('Cabernet', 'NOUN'), ('weighed', 'VERB'), ('in', 'ADP'), ('this', 'DET'), ('fall', 'NOUN'), ('with', 'ADP'), ('a', 'DET'), ('sticker', 'NOUN'), ('price', 'NOUN'), ('of', 'ADP'), ('$', '.'), ('100', 'NUM'), ('*U*', 'X'), ('a', 'DET'), ('bottle', 'NOUN'), ('.', '.')]\n"
     ]
    }
   ],
   "source": [
    "print(tagged_seq_modified)"
   ]
  },
  {
   "cell_type": "code",
   "execution_count": 41,
   "metadata": {},
   "outputs": [
    {
     "data": {
      "text/plain": [
       "0.9344262295081968"
      ]
     },
     "execution_count": 41,
     "metadata": {},
     "output_type": "execute_result"
    }
   ],
   "source": [
    "# accuracy\n",
    "check1 = [i for i, j in zip(tagged_seq_modified, test_run_base) if i == j]\n",
    "accuracy_viterbi_modified = len(check1)/len(tagged_seq_modified)\n",
    "accuracy_viterbi_modified"
   ]
  },
  {
   "cell_type": "markdown",
   "metadata": {},
   "source": [
    "### Compare the tagging accuracies of the modifications with the vanilla Viterbi algorithm"
   ]
  },
  {
   "cell_type": "code",
   "execution_count": 42,
   "metadata": {},
   "outputs": [
    {
     "name": "stdout",
     "output_type": "stream",
     "text": [
      "0.9098360655737705\n"
     ]
    }
   ],
   "source": [
    "print(accuracy_vanilla_viterbi)"
   ]
  },
  {
   "cell_type": "code",
   "execution_count": 43,
   "metadata": {},
   "outputs": [
    {
     "name": "stdout",
     "output_type": "stream",
     "text": [
      "0.9070263975155279\n"
     ]
    }
   ],
   "source": [
    "print(accuracy_bigram_tagger)"
   ]
  },
  {
   "cell_type": "code",
   "execution_count": 44,
   "metadata": {},
   "outputs": [
    {
     "name": "stdout",
     "output_type": "stream",
     "text": [
      "0.9029503105590062\n"
     ]
    }
   ],
   "source": [
    "print(accuracy_lexicon_tagger)"
   ]
  },
  {
   "cell_type": "code",
   "execution_count": 45,
   "metadata": {},
   "outputs": [
    {
     "name": "stdout",
     "output_type": "stream",
     "text": [
      "0.9083850931677019\n"
     ]
    }
   ],
   "source": [
    "print(accuracy_trigram_regex)"
   ]
  },
  {
   "cell_type": "code",
   "execution_count": 46,
   "metadata": {},
   "outputs": [
    {
     "name": "stdout",
     "output_type": "stream",
     "text": [
      "0.9344262295081968\n"
     ]
    }
   ],
   "source": [
    "print(accuracy_viterbi_modified)"
   ]
  },
  {
   "cell_type": "markdown",
   "metadata": {},
   "source": [
    "### List down cases which were incorrectly tagged by original POS tagger and got corrected by your modifications"
   ]
  },
  {
   "cell_type": "code",
   "execution_count": 47,
   "metadata": {},
   "outputs": [
    {
     "name": "stdout",
     "output_type": "stream",
     "text": [
      "[('Android', 'NOUN'), ('has', 'VERB'), ('been', 'VERB'), ('the', 'DET'), ('best-selling', 'ADJ'), ('OS', 'NOUN'), ('worldwide', 'NOUN'), ('on', 'ADP'), ('smartphones', 'NOUN'), ('since', 'ADP'), ('2011', 'NOUN'), ('and', 'CONJ'), ('on', 'ADP'), ('tablets', 'NOUN'), ('since', 'ADP'), ('2013', 'NOUN'), ('.', '.')]\n"
     ]
    }
   ],
   "source": [
    "sentence_test1='Android has been the best-selling OS worldwide on smartphones since 2011 and on tablets since 2013.'\n",
    "words = word_tokenize(sentence_test1)\n",
    "tagged_seq = Viterbi(words)\n",
    "print(tagged_seq)"
   ]
  },
  {
   "cell_type": "code",
   "execution_count": 48,
   "metadata": {},
   "outputs": [
    {
     "name": "stdout",
     "output_type": "stream",
     "text": [
      "[('Android', 'NOUN'), ('has', 'VERB'), ('been', 'VERB'), ('the', 'DET'), ('best-selling', 'ADJ'), ('OS', 'NOUN'), ('worldwide', 'NOUN'), ('on', 'ADP'), ('smartphones', 'VERB'), ('since', 'ADP'), ('2011', 'NUM'), ('and', 'CONJ'), ('on', 'ADP'), ('tablets', 'NOUN'), ('since', 'ADP'), ('2013', 'NUM'), ('.', '.')]\n"
     ]
    }
   ],
   "source": [
    "tagged_seq_modified = Viterbi_modified(words)\n",
    "print(tagged_seq_modified)"
   ]
  },
  {
   "cell_type": "code",
   "execution_count": 49,
   "metadata": {},
   "outputs": [
    {
     "name": "stdout",
     "output_type": "stream",
     "text": [
      "[('Google', 'NOUN'), ('and', 'CONJ'), ('Twitter', 'NOUN'), ('made', 'VERB'), ('a', 'DET'), ('deal', 'NOUN'), ('in', 'ADP'), ('2015', 'NOUN'), ('that', 'ADP'), ('gave', 'VERB'), ('Google', 'NOUN'), ('access', 'NOUN'), ('to', 'PRT'), ('Twitter', 'NOUN'), (\"'s\", 'PRT'), ('firehose', 'NOUN'), ('.', '.')]\n"
     ]
    }
   ],
   "source": [
    "## Testing\n",
    "sentence_test2 = 'Google and Twitter made a deal in 2015 that gave Google access to Twitter\\'s firehose.'\n",
    "words = word_tokenize(sentence_test2)\n",
    "tagged_seq = Viterbi(words)\n",
    "print(tagged_seq)"
   ]
  },
  {
   "cell_type": "code",
   "execution_count": 50,
   "metadata": {},
   "outputs": [
    {
     "name": "stdout",
     "output_type": "stream",
     "text": [
      "[('Google', 'NOUN'), ('and', 'CONJ'), ('Twitter', 'NOUN'), ('made', 'VERB'), ('a', 'DET'), ('deal', 'NOUN'), ('in', 'ADP'), ('2015', 'NUM'), ('that', 'ADP'), ('gave', 'VERB'), ('Google', 'NOUN'), ('access', 'NOUN'), ('to', 'PRT'), ('Twitter', 'NOUN'), (\"'s\", 'PRT'), ('firehose', 'NOUN'), ('.', '.')]\n"
     ]
    }
   ],
   "source": [
    "tagged_seq_modified = Viterbi_modified(words)\n",
    "print(tagged_seq_modified)"
   ]
  },
  {
   "cell_type": "markdown",
   "metadata": {},
   "source": [
    "##### We see that the new words added - Google, Twitter, smartphones are tagged from X to NOUN. We alse see the adj of best-selling are recognised correctly"
   ]
  }
 ],
 "metadata": {
  "kernelspec": {
   "display_name": "Python 3",
   "language": "python",
   "name": "python3"
  },
  "language_info": {
   "codemirror_mode": {
    "name": "ipython",
    "version": 3
   },
   "file_extension": ".py",
   "mimetype": "text/x-python",
   "name": "python",
   "nbconvert_exporter": "python",
   "pygments_lexer": "ipython3",
   "version": "3.6.5"
  }
 },
 "nbformat": 4,
 "nbformat_minor": 2
}
